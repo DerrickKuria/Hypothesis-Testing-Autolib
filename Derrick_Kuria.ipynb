{
  "nbformat": 4,
  "nbformat_minor": 0,
  "metadata": {
    "colab": {
      "name": "Derrick_Kuria.ipynb",
      "provenance": [],
      "collapsed_sections": [],
      "toc_visible": true,
      "authorship_tag": "ABX9TyPksz4uoJnfBJi81jiz2k68",
      "include_colab_link": true
    },
    "kernelspec": {
      "name": "python3",
      "display_name": "Python 3"
    }
  },
  "cells": [
    {
      "cell_type": "markdown",
      "metadata": {
        "id": "view-in-github",
        "colab_type": "text"
      },
      "source": [
        "<a href=\"https://colab.research.google.com/github/DerrickKuria/Hypothesis-Testing-Autolib/blob/master/Derrick_Kuria.ipynb\" target=\"_parent\"><img src=\"https://colab.research.google.com/assets/colab-badge.svg\" alt=\"Open In Colab\"/></a>"
      ]
    },
    {
      "cell_type": "markdown",
      "metadata": {
        "id": "DSWTgvOPH70O",
        "colab_type": "text"
      },
      "source": [
        "##                    **SUMMARY**\n",
        "Autolib was an electric cas sharing service inaugurated in Paris.We will be using the  Autolib dataset to perform Univatiate and Bivariate Analysis  as well as Hoypotheses Testing"
      ]
    },
    {
      "cell_type": "markdown",
      "metadata": {
        "id": "cSygixvVtraN",
        "colab_type": "text"
      },
      "source": [
        "## import Libraries"
      ]
    },
    {
      "cell_type": "code",
      "metadata": {
        "id": "vO7DyAiEp4ak",
        "colab_type": "code",
        "colab": {}
      },
      "source": [
        "#importing Pandas  - Python Library for Data Manipulation\n",
        "import pandas as pd"
      ],
      "execution_count": 0,
      "outputs": []
    },
    {
      "cell_type": "code",
      "metadata": {
        "id": "zLCfUjg4t3K1",
        "colab_type": "code",
        "colab": {}
      },
      "source": [
        "#import Seaborn - a python visualisation based on maatplotlib\n",
        "import seaborn as sns"
      ],
      "execution_count": 0,
      "outputs": []
    },
    {
      "cell_type": "code",
      "metadata": {
        "id": "b7v1TcDPt3Fk",
        "colab_type": "code",
        "colab": {}
      },
      "source": [
        "#import numpy - python library for multidimension arrays , matrices and math functions\n",
        "import numpy as np"
      ],
      "execution_count": 0,
      "outputs": []
    },
    {
      "cell_type": "code",
      "metadata": {
        "id": "b4S8tGA_t3Be",
        "colab_type": "code",
        "colab": {}
      },
      "source": [
        "#import matplotlib - python library for creating static and animated visualisations.\n",
        "import matplotlib.pyplot as plt"
      ],
      "execution_count": 0,
      "outputs": []
    },
    {
      "cell_type": "markdown",
      "metadata": {
        "id": "4b8fGUm-S2GW",
        "colab_type": "text"
      },
      "source": [
        ""
      ]
    },
    {
      "cell_type": "markdown",
      "metadata": {
        "id": "7gLwVmBFuiaC",
        "colab_type": "text"
      },
      "source": [
        "## Import the data"
      ]
    },
    {
      "cell_type": "code",
      "metadata": {
        "id": "zQ5NtZGJt27T",
        "colab_type": "code",
        "colab": {}
      },
      "source": [
        "#Link to the data\n",
        "#link = 'http://bit.ly/DSCoreAutolibDataset'"
      ],
      "execution_count": 0,
      "outputs": []
    },
    {
      "cell_type": "code",
      "metadata": {
        "id": "kxoWQqsWt2w9",
        "colab_type": "code",
        "colab": {}
      },
      "source": [
        "#Reading the data\n",
        "\n",
        "Autolib = pd.read_csv('/content/autolib_daily_events_postal_code.csv')\n",
        "\n"
      ],
      "execution_count": 0,
      "outputs": []
    },
    {
      "cell_type": "markdown",
      "metadata": {
        "id": "KxwnlLcsvT1B",
        "colab_type": "text"
      },
      "source": [
        "## Preview the Data"
      ]
    },
    {
      "cell_type": "code",
      "metadata": {
        "id": "Ci42rnKMvTBK",
        "colab_type": "code",
        "outputId": "8349b1d4-3243-4890-fa80-ea7770eed2fa",
        "colab": {
          "base_uri": "https://localhost:8080/",
          "height": 241
        }
      },
      "source": [
        "#preview the first 5 rows\n",
        "Autolib.head()"
      ],
      "execution_count": 0,
      "outputs": [
        {
          "output_type": "execute_result",
          "data": {
            "text/html": [
              "<div>\n",
              "<style scoped>\n",
              "    .dataframe tbody tr th:only-of-type {\n",
              "        vertical-align: middle;\n",
              "    }\n",
              "\n",
              "    .dataframe tbody tr th {\n",
              "        vertical-align: top;\n",
              "    }\n",
              "\n",
              "    .dataframe thead th {\n",
              "        text-align: right;\n",
              "    }\n",
              "</style>\n",
              "<table border=\"1\" class=\"dataframe\">\n",
              "  <thead>\n",
              "    <tr style=\"text-align: right;\">\n",
              "      <th></th>\n",
              "      <th>Postal code</th>\n",
              "      <th>date</th>\n",
              "      <th>n_daily_data_points</th>\n",
              "      <th>dayOfWeek</th>\n",
              "      <th>day_type</th>\n",
              "      <th>BlueCars_taken_sum</th>\n",
              "      <th>BlueCars_returned_sum</th>\n",
              "      <th>Utilib_taken_sum</th>\n",
              "      <th>Utilib_returned_sum</th>\n",
              "      <th>Utilib_14_taken_sum</th>\n",
              "      <th>Utilib_14_returned_sum</th>\n",
              "      <th>Slots_freed_sum</th>\n",
              "      <th>Slots_taken_sum</th>\n",
              "    </tr>\n",
              "  </thead>\n",
              "  <tbody>\n",
              "    <tr>\n",
              "      <th>0</th>\n",
              "      <td>75001</td>\n",
              "      <td>1/1/2018</td>\n",
              "      <td>1440</td>\n",
              "      <td>0</td>\n",
              "      <td>weekday</td>\n",
              "      <td>110</td>\n",
              "      <td>103</td>\n",
              "      <td>3</td>\n",
              "      <td>2</td>\n",
              "      <td>10</td>\n",
              "      <td>9</td>\n",
              "      <td>22</td>\n",
              "      <td>20</td>\n",
              "    </tr>\n",
              "    <tr>\n",
              "      <th>1</th>\n",
              "      <td>75001</td>\n",
              "      <td>1/2/2018</td>\n",
              "      <td>1438</td>\n",
              "      <td>1</td>\n",
              "      <td>weekday</td>\n",
              "      <td>98</td>\n",
              "      <td>94</td>\n",
              "      <td>1</td>\n",
              "      <td>1</td>\n",
              "      <td>8</td>\n",
              "      <td>8</td>\n",
              "      <td>23</td>\n",
              "      <td>22</td>\n",
              "    </tr>\n",
              "    <tr>\n",
              "      <th>2</th>\n",
              "      <td>75001</td>\n",
              "      <td>1/3/2018</td>\n",
              "      <td>1439</td>\n",
              "      <td>2</td>\n",
              "      <td>weekday</td>\n",
              "      <td>138</td>\n",
              "      <td>139</td>\n",
              "      <td>0</td>\n",
              "      <td>0</td>\n",
              "      <td>2</td>\n",
              "      <td>2</td>\n",
              "      <td>27</td>\n",
              "      <td>27</td>\n",
              "    </tr>\n",
              "    <tr>\n",
              "      <th>3</th>\n",
              "      <td>75001</td>\n",
              "      <td>1/4/2018</td>\n",
              "      <td>1320</td>\n",
              "      <td>3</td>\n",
              "      <td>weekday</td>\n",
              "      <td>104</td>\n",
              "      <td>104</td>\n",
              "      <td>2</td>\n",
              "      <td>2</td>\n",
              "      <td>9</td>\n",
              "      <td>8</td>\n",
              "      <td>25</td>\n",
              "      <td>21</td>\n",
              "    </tr>\n",
              "    <tr>\n",
              "      <th>4</th>\n",
              "      <td>75001</td>\n",
              "      <td>1/5/2018</td>\n",
              "      <td>1440</td>\n",
              "      <td>4</td>\n",
              "      <td>weekday</td>\n",
              "      <td>114</td>\n",
              "      <td>117</td>\n",
              "      <td>3</td>\n",
              "      <td>3</td>\n",
              "      <td>6</td>\n",
              "      <td>6</td>\n",
              "      <td>18</td>\n",
              "      <td>20</td>\n",
              "    </tr>\n",
              "  </tbody>\n",
              "</table>\n",
              "</div>"
            ],
            "text/plain": [
              "   Postal code      date  ...  Slots_freed_sum  Slots_taken_sum\n",
              "0        75001  1/1/2018  ...               22               20\n",
              "1        75001  1/2/2018  ...               23               22\n",
              "2        75001  1/3/2018  ...               27               27\n",
              "3        75001  1/4/2018  ...               25               21\n",
              "4        75001  1/5/2018  ...               18               20\n",
              "\n",
              "[5 rows x 13 columns]"
            ]
          },
          "metadata": {
            "tags": []
          },
          "execution_count": 184
        }
      ]
    },
    {
      "cell_type": "code",
      "metadata": {
        "id": "qX0mBl1fvnah",
        "colab_type": "code",
        "outputId": "45d2632a-0667-496c-99cf-d13e8efef9a1",
        "colab": {
          "base_uri": "https://localhost:8080/",
          "height": 241
        }
      },
      "source": [
        "#Preview the last 5 rows\n",
        "Autolib.tail()"
      ],
      "execution_count": 0,
      "outputs": [
        {
          "output_type": "execute_result",
          "data": {
            "text/html": [
              "<div>\n",
              "<style scoped>\n",
              "    .dataframe tbody tr th:only-of-type {\n",
              "        vertical-align: middle;\n",
              "    }\n",
              "\n",
              "    .dataframe tbody tr th {\n",
              "        vertical-align: top;\n",
              "    }\n",
              "\n",
              "    .dataframe thead th {\n",
              "        text-align: right;\n",
              "    }\n",
              "</style>\n",
              "<table border=\"1\" class=\"dataframe\">\n",
              "  <thead>\n",
              "    <tr style=\"text-align: right;\">\n",
              "      <th></th>\n",
              "      <th>Postal code</th>\n",
              "      <th>date</th>\n",
              "      <th>n_daily_data_points</th>\n",
              "      <th>dayOfWeek</th>\n",
              "      <th>day_type</th>\n",
              "      <th>BlueCars_taken_sum</th>\n",
              "      <th>BlueCars_returned_sum</th>\n",
              "      <th>Utilib_taken_sum</th>\n",
              "      <th>Utilib_returned_sum</th>\n",
              "      <th>Utilib_14_taken_sum</th>\n",
              "      <th>Utilib_14_returned_sum</th>\n",
              "      <th>Slots_freed_sum</th>\n",
              "      <th>Slots_taken_sum</th>\n",
              "    </tr>\n",
              "  </thead>\n",
              "  <tbody>\n",
              "    <tr>\n",
              "      <th>16080</th>\n",
              "      <td>95880</td>\n",
              "      <td>6/15/2018</td>\n",
              "      <td>1440</td>\n",
              "      <td>4</td>\n",
              "      <td>weekday</td>\n",
              "      <td>15</td>\n",
              "      <td>10</td>\n",
              "      <td>0</td>\n",
              "      <td>0</td>\n",
              "      <td>2</td>\n",
              "      <td>3</td>\n",
              "      <td>0</td>\n",
              "      <td>0</td>\n",
              "    </tr>\n",
              "    <tr>\n",
              "      <th>16081</th>\n",
              "      <td>95880</td>\n",
              "      <td>6/16/2018</td>\n",
              "      <td>1440</td>\n",
              "      <td>5</td>\n",
              "      <td>weekend</td>\n",
              "      <td>19</td>\n",
              "      <td>19</td>\n",
              "      <td>0</td>\n",
              "      <td>0</td>\n",
              "      <td>2</td>\n",
              "      <td>1</td>\n",
              "      <td>0</td>\n",
              "      <td>0</td>\n",
              "    </tr>\n",
              "    <tr>\n",
              "      <th>16082</th>\n",
              "      <td>95880</td>\n",
              "      <td>6/17/2018</td>\n",
              "      <td>1440</td>\n",
              "      <td>6</td>\n",
              "      <td>weekend</td>\n",
              "      <td>33</td>\n",
              "      <td>35</td>\n",
              "      <td>1</td>\n",
              "      <td>1</td>\n",
              "      <td>0</td>\n",
              "      <td>0</td>\n",
              "      <td>0</td>\n",
              "      <td>0</td>\n",
              "    </tr>\n",
              "    <tr>\n",
              "      <th>16083</th>\n",
              "      <td>95880</td>\n",
              "      <td>6/18/2018</td>\n",
              "      <td>1440</td>\n",
              "      <td>0</td>\n",
              "      <td>weekday</td>\n",
              "      <td>11</td>\n",
              "      <td>14</td>\n",
              "      <td>3</td>\n",
              "      <td>5</td>\n",
              "      <td>2</td>\n",
              "      <td>2</td>\n",
              "      <td>0</td>\n",
              "      <td>0</td>\n",
              "    </tr>\n",
              "    <tr>\n",
              "      <th>16084</th>\n",
              "      <td>95880</td>\n",
              "      <td>6/19/2018</td>\n",
              "      <td>1370</td>\n",
              "      <td>1</td>\n",
              "      <td>weekday</td>\n",
              "      <td>2</td>\n",
              "      <td>2</td>\n",
              "      <td>2</td>\n",
              "      <td>1</td>\n",
              "      <td>0</td>\n",
              "      <td>0</td>\n",
              "      <td>0</td>\n",
              "      <td>0</td>\n",
              "    </tr>\n",
              "  </tbody>\n",
              "</table>\n",
              "</div>"
            ],
            "text/plain": [
              "       Postal code       date  ...  Slots_freed_sum  Slots_taken_sum\n",
              "16080        95880  6/15/2018  ...                0                0\n",
              "16081        95880  6/16/2018  ...                0                0\n",
              "16082        95880  6/17/2018  ...                0                0\n",
              "16083        95880  6/18/2018  ...                0                0\n",
              "16084        95880  6/19/2018  ...                0                0\n",
              "\n",
              "[5 rows x 13 columns]"
            ]
          },
          "metadata": {
            "tags": []
          },
          "execution_count": 185
        }
      ]
    },
    {
      "cell_type": "code",
      "metadata": {
        "id": "c4-aDV7wvvcX",
        "colab_type": "code",
        "outputId": "5336ef93-1a17-41bf-9c62-0f8f907ea35a",
        "colab": {
          "base_uri": "https://localhost:8080/",
          "height": 102
        }
      },
      "source": [
        "#Preview the columns \n",
        "Autolib.columns"
      ],
      "execution_count": 0,
      "outputs": [
        {
          "output_type": "execute_result",
          "data": {
            "text/plain": [
              "Index(['Postal code', 'date', 'n_daily_data_points', 'dayOfWeek', 'day_type',\n",
              "       'BlueCars_taken_sum', 'BlueCars_returned_sum', 'Utilib_taken_sum',\n",
              "       'Utilib_returned_sum', 'Utilib_14_taken_sum', 'Utilib_14_returned_sum',\n",
              "       'Slots_freed_sum', 'Slots_taken_sum'],\n",
              "      dtype='object')"
            ]
          },
          "metadata": {
            "tags": []
          },
          "execution_count": 186
        }
      ]
    },
    {
      "cell_type": "code",
      "metadata": {
        "id": "vtW4Pd_4_g43",
        "colab_type": "code",
        "colab": {}
      },
      "source": [
        "#Renaming the columns that appear as two names to be one. \n",
        "#i.e Postal code\n",
        "Autolib.rename(columns={'Postal code': 'Postal_code'}, inplace =True )\n",
        "\n"
      ],
      "execution_count": 0,
      "outputs": []
    },
    {
      "cell_type": "code",
      "metadata": {
        "id": "ugAp8ey8WXMR",
        "colab_type": "code",
        "outputId": "c24f037f-2d83-4222-983c-1c5929f74dec",
        "colab": {
          "base_uri": "https://localhost:8080/",
          "height": 102
        }
      },
      "source": [
        "Autolib.columns"
      ],
      "execution_count": 0,
      "outputs": [
        {
          "output_type": "execute_result",
          "data": {
            "text/plain": [
              "Index(['Postal_code', 'date', 'n_daily_data_points', 'dayOfWeek', 'day_type',\n",
              "       'BlueCars_taken_sum', 'BlueCars_returned_sum', 'Utilib_taken_sum',\n",
              "       'Utilib_returned_sum', 'Utilib_14_taken_sum', 'Utilib_14_returned_sum',\n",
              "       'Slots_freed_sum', 'Slots_taken_sum'],\n",
              "      dtype='object')"
            ]
          },
          "metadata": {
            "tags": []
          },
          "execution_count": 188
        }
      ]
    },
    {
      "cell_type": "code",
      "metadata": {
        "id": "QiZ6BRwlwCD-",
        "colab_type": "code",
        "outputId": "d631f313-51df-415a-c7e3-a07c8249815b",
        "colab": {
          "base_uri": "https://localhost:8080/",
          "height": 34
        }
      },
      "source": [
        "#Preview the numbers of Rows and Columns\n",
        "Autolib.shape"
      ],
      "execution_count": 0,
      "outputs": [
        {
          "output_type": "execute_result",
          "data": {
            "text/plain": [
              "(16085, 13)"
            ]
          },
          "metadata": {
            "tags": []
          },
          "execution_count": 189
        }
      ]
    },
    {
      "cell_type": "code",
      "metadata": {
        "id": "RAzs_cc3xO8s",
        "colab_type": "code",
        "outputId": "3503b172-6648-422f-d860-d4460ddd5e20",
        "colab": {
          "base_uri": "https://localhost:8080/",
          "height": 357
        }
      },
      "source": [
        "# Check the data types\n",
        "Autolib.info()"
      ],
      "execution_count": 0,
      "outputs": [
        {
          "output_type": "stream",
          "text": [
            "<class 'pandas.core.frame.DataFrame'>\n",
            "RangeIndex: 16085 entries, 0 to 16084\n",
            "Data columns (total 13 columns):\n",
            " #   Column                  Non-Null Count  Dtype \n",
            "---  ------                  --------------  ----- \n",
            " 0   Postal_code             16085 non-null  int64 \n",
            " 1   date                    16085 non-null  object\n",
            " 2   n_daily_data_points     16085 non-null  int64 \n",
            " 3   dayOfWeek               16085 non-null  int64 \n",
            " 4   day_type                16085 non-null  object\n",
            " 5   BlueCars_taken_sum      16085 non-null  int64 \n",
            " 6   BlueCars_returned_sum   16085 non-null  int64 \n",
            " 7   Utilib_taken_sum        16085 non-null  int64 \n",
            " 8   Utilib_returned_sum     16085 non-null  int64 \n",
            " 9   Utilib_14_taken_sum     16085 non-null  int64 \n",
            " 10  Utilib_14_returned_sum  16085 non-null  int64 \n",
            " 11  Slots_freed_sum         16085 non-null  int64 \n",
            " 12  Slots_taken_sum         16085 non-null  int64 \n",
            "dtypes: int64(11), object(2)\n",
            "memory usage: 1.6+ MB\n"
          ],
          "name": "stdout"
        }
      ]
    },
    {
      "cell_type": "code",
      "metadata": {
        "id": "yw53suCMw2eK",
        "colab_type": "code",
        "outputId": "55673905-9049-40d2-893e-f04aac996486",
        "colab": {
          "base_uri": "https://localhost:8080/",
          "height": 317
        }
      },
      "source": [
        "#preview the Datas Basic Mathematical summaries\n",
        "Autolib.describe()"
      ],
      "execution_count": 0,
      "outputs": [
        {
          "output_type": "execute_result",
          "data": {
            "text/html": [
              "<div>\n",
              "<style scoped>\n",
              "    .dataframe tbody tr th:only-of-type {\n",
              "        vertical-align: middle;\n",
              "    }\n",
              "\n",
              "    .dataframe tbody tr th {\n",
              "        vertical-align: top;\n",
              "    }\n",
              "\n",
              "    .dataframe thead th {\n",
              "        text-align: right;\n",
              "    }\n",
              "</style>\n",
              "<table border=\"1\" class=\"dataframe\">\n",
              "  <thead>\n",
              "    <tr style=\"text-align: right;\">\n",
              "      <th></th>\n",
              "      <th>Postal_code</th>\n",
              "      <th>n_daily_data_points</th>\n",
              "      <th>dayOfWeek</th>\n",
              "      <th>BlueCars_taken_sum</th>\n",
              "      <th>BlueCars_returned_sum</th>\n",
              "      <th>Utilib_taken_sum</th>\n",
              "      <th>Utilib_returned_sum</th>\n",
              "      <th>Utilib_14_taken_sum</th>\n",
              "      <th>Utilib_14_returned_sum</th>\n",
              "      <th>Slots_freed_sum</th>\n",
              "      <th>Slots_taken_sum</th>\n",
              "    </tr>\n",
              "  </thead>\n",
              "  <tbody>\n",
              "    <tr>\n",
              "      <th>count</th>\n",
              "      <td>16085.000000</td>\n",
              "      <td>16085.000000</td>\n",
              "      <td>16085.000000</td>\n",
              "      <td>16085.000000</td>\n",
              "      <td>16085.000000</td>\n",
              "      <td>16085.000000</td>\n",
              "      <td>16085.000000</td>\n",
              "      <td>16085.000000</td>\n",
              "      <td>16085.000000</td>\n",
              "      <td>16085.000000</td>\n",
              "      <td>16085.000000</td>\n",
              "    </tr>\n",
              "    <tr>\n",
              "      <th>mean</th>\n",
              "      <td>88791.293876</td>\n",
              "      <td>1431.330619</td>\n",
              "      <td>2.969599</td>\n",
              "      <td>125.926951</td>\n",
              "      <td>125.912714</td>\n",
              "      <td>3.698290</td>\n",
              "      <td>3.699099</td>\n",
              "      <td>8.600560</td>\n",
              "      <td>8.599192</td>\n",
              "      <td>22.629033</td>\n",
              "      <td>22.629282</td>\n",
              "    </tr>\n",
              "    <tr>\n",
              "      <th>std</th>\n",
              "      <td>7647.342000</td>\n",
              "      <td>33.212050</td>\n",
              "      <td>2.008378</td>\n",
              "      <td>185.426579</td>\n",
              "      <td>185.501535</td>\n",
              "      <td>5.815058</td>\n",
              "      <td>5.824634</td>\n",
              "      <td>12.870098</td>\n",
              "      <td>12.868993</td>\n",
              "      <td>52.120263</td>\n",
              "      <td>52.146030</td>\n",
              "    </tr>\n",
              "    <tr>\n",
              "      <th>min</th>\n",
              "      <td>75001.000000</td>\n",
              "      <td>1174.000000</td>\n",
              "      <td>0.000000</td>\n",
              "      <td>0.000000</td>\n",
              "      <td>0.000000</td>\n",
              "      <td>0.000000</td>\n",
              "      <td>0.000000</td>\n",
              "      <td>0.000000</td>\n",
              "      <td>0.000000</td>\n",
              "      <td>0.000000</td>\n",
              "      <td>0.000000</td>\n",
              "    </tr>\n",
              "    <tr>\n",
              "      <th>25%</th>\n",
              "      <td>91330.000000</td>\n",
              "      <td>1439.000000</td>\n",
              "      <td>1.000000</td>\n",
              "      <td>20.000000</td>\n",
              "      <td>20.000000</td>\n",
              "      <td>0.000000</td>\n",
              "      <td>0.000000</td>\n",
              "      <td>1.000000</td>\n",
              "      <td>1.000000</td>\n",
              "      <td>0.000000</td>\n",
              "      <td>0.000000</td>\n",
              "    </tr>\n",
              "    <tr>\n",
              "      <th>50%</th>\n",
              "      <td>92340.000000</td>\n",
              "      <td>1440.000000</td>\n",
              "      <td>3.000000</td>\n",
              "      <td>46.000000</td>\n",
              "      <td>46.000000</td>\n",
              "      <td>1.000000</td>\n",
              "      <td>1.000000</td>\n",
              "      <td>3.000000</td>\n",
              "      <td>3.000000</td>\n",
              "      <td>0.000000</td>\n",
              "      <td>0.000000</td>\n",
              "    </tr>\n",
              "    <tr>\n",
              "      <th>75%</th>\n",
              "      <td>93400.000000</td>\n",
              "      <td>1440.000000</td>\n",
              "      <td>5.000000</td>\n",
              "      <td>135.000000</td>\n",
              "      <td>135.000000</td>\n",
              "      <td>4.000000</td>\n",
              "      <td>4.000000</td>\n",
              "      <td>10.000000</td>\n",
              "      <td>10.000000</td>\n",
              "      <td>5.000000</td>\n",
              "      <td>5.000000</td>\n",
              "    </tr>\n",
              "    <tr>\n",
              "      <th>max</th>\n",
              "      <td>95880.000000</td>\n",
              "      <td>1440.000000</td>\n",
              "      <td>6.000000</td>\n",
              "      <td>1352.000000</td>\n",
              "      <td>1332.000000</td>\n",
              "      <td>54.000000</td>\n",
              "      <td>58.000000</td>\n",
              "      <td>100.000000</td>\n",
              "      <td>101.000000</td>\n",
              "      <td>360.000000</td>\n",
              "      <td>359.000000</td>\n",
              "    </tr>\n",
              "  </tbody>\n",
              "</table>\n",
              "</div>"
            ],
            "text/plain": [
              "        Postal_code  n_daily_data_points  ...  Slots_freed_sum  Slots_taken_sum\n",
              "count  16085.000000         16085.000000  ...     16085.000000     16085.000000\n",
              "mean   88791.293876          1431.330619  ...        22.629033        22.629282\n",
              "std     7647.342000            33.212050  ...        52.120263        52.146030\n",
              "min    75001.000000          1174.000000  ...         0.000000         0.000000\n",
              "25%    91330.000000          1439.000000  ...         0.000000         0.000000\n",
              "50%    92340.000000          1440.000000  ...         0.000000         0.000000\n",
              "75%    93400.000000          1440.000000  ...         5.000000         5.000000\n",
              "max    95880.000000          1440.000000  ...       360.000000       359.000000\n",
              "\n",
              "[8 rows x 11 columns]"
            ]
          },
          "metadata": {
            "tags": []
          },
          "execution_count": 192
        }
      ]
    },
    {
      "cell_type": "code",
      "metadata": {
        "id": "aBlu0skh_KDy",
        "colab_type": "code",
        "outputId": "4a3400e5-d40a-4898-f2be-e238adead23c",
        "colab": {
          "base_uri": "https://localhost:8080/",
          "height": 187
        }
      },
      "source": [
        "#check  for unique values in each column so as to know the numerical and categorical variables.\n",
        "print(f'BlueCars_taken_sum: {Autolib.BlueCars_taken_sum.nunique()}')\n",
        "print(f'dayOfWeek: {Autolib.dayOfWeek.nunique()}')\n",
        "print(f'day_type: {Autolib.day_type.nunique()}')\n",
        "print(f'n_daily_data_points: {Autolib.BlueCars_taken_sum.nunique()}')\n",
        "print(f'BlueCars_returned_sum: {Autolib.BlueCars_returned_sum.nunique()}')\n",
        "print(f'Utilib_taken_sum: {Autolib.Utilib_taken_sum.nunique()}')\n",
        "print(f'Utilib_returned_sum: {Autolib.Utilib_returned_sum.nunique()}')\n",
        "print(f'Utilib_14_taken_sum: {Autolib.Utilib_14_taken_sum.nunique()}')\n",
        "print(f'Slots_freed_sum: {Autolib.Slots_freed_sum.nunique()}')\n",
        "print(f'Slots_taken_sum : {Autolib.Slots_taken_sum .nunique()}')\n",
        "\n",
        "\n"
      ],
      "execution_count": 0,
      "outputs": [
        {
          "output_type": "stream",
          "text": [
            "BlueCars_taken_sum: 932\n",
            "dayOfWeek: 7\n",
            "day_type: 2\n",
            "n_daily_data_points: 932\n",
            "BlueCars_returned_sum: 929\n",
            "Utilib_taken_sum: 48\n",
            "Utilib_returned_sum: 49\n",
            "Utilib_14_taken_sum: 92\n",
            "Slots_freed_sum: 297\n",
            "Slots_taken_sum : 301\n"
          ],
          "name": "stdout"
        }
      ]
    },
    {
      "cell_type": "markdown",
      "metadata": {
        "id": "mghTxzNtzOAb",
        "colab_type": "text"
      },
      "source": [
        "## Data cleaning"
      ]
    },
    {
      "cell_type": "code",
      "metadata": {
        "id": "tgutp4e3zSuj",
        "colab_type": "code",
        "outputId": "9efb85f2-bed5-4dd1-c86b-47ff1fe91066",
        "colab": {
          "base_uri": "https://localhost:8080/",
          "height": 255
        }
      },
      "source": [
        "#We start by checking for null values\n",
        "Autolib = Autolib.isnull().sum()\n",
        "Autolib"
      ],
      "execution_count": 0,
      "outputs": [
        {
          "output_type": "execute_result",
          "data": {
            "text/plain": [
              "Postal_code               0\n",
              "date                      0\n",
              "n_daily_data_points       0\n",
              "dayOfWeek                 0\n",
              "day_type                  0\n",
              "BlueCars_taken_sum        0\n",
              "BlueCars_returned_sum     0\n",
              "Utilib_taken_sum          0\n",
              "Utilib_returned_sum       0\n",
              "Utilib_14_taken_sum       0\n",
              "Utilib_14_returned_sum    0\n",
              "Slots_freed_sum           0\n",
              "Slots_taken_sum           0\n",
              "dtype: int64"
            ]
          },
          "metadata": {
            "tags": []
          },
          "execution_count": 165
        }
      ]
    },
    {
      "cell_type": "code",
      "metadata": {
        "id": "CSap77R6zusi",
        "colab_type": "code",
        "colab": {}
      },
      "source": [
        "#Our dataset is free from Null values"
      ],
      "execution_count": 0,
      "outputs": []
    },
    {
      "cell_type": "code",
      "metadata": {
        "id": "yt9rwRXa75if",
        "colab_type": "code",
        "outputId": "49c834ee-bf09-47cb-92c6-335103be8cfd",
        "colab": {
          "base_uri": "https://localhost:8080/",
          "height": 221
        }
      },
      "source": [
        "#checking for duplicates\n",
        "Autolib.duplicated(keep ='first')"
      ],
      "execution_count": 0,
      "outputs": [
        {
          "output_type": "execute_result",
          "data": {
            "text/plain": [
              "0        False\n",
              "1        False\n",
              "2        False\n",
              "3        False\n",
              "4        False\n",
              "         ...  \n",
              "16080    False\n",
              "16081    False\n",
              "16082    False\n",
              "16083    False\n",
              "16084    False\n",
              "Length: 16085, dtype: bool"
            ]
          },
          "metadata": {
            "tags": []
          },
          "execution_count": 193
        }
      ]
    },
    {
      "cell_type": "code",
      "metadata": {
        "id": "1WRCew6eWRqA",
        "colab_type": "code",
        "outputId": "dce512ec-b6b0-4df0-fac3-380a4a0ade29",
        "colab": {
          "base_uri": "https://localhost:8080/",
          "height": 102
        }
      },
      "source": [
        "Autolib.columns"
      ],
      "execution_count": 0,
      "outputs": [
        {
          "output_type": "execute_result",
          "data": {
            "text/plain": [
              "Index(['Postal_code', 'date', 'n_daily_data_points', 'dayOfWeek', 'day_type',\n",
              "       'BlueCars_taken_sum', 'BlueCars_returned_sum', 'Utilib_taken_sum',\n",
              "       'Utilib_returned_sum', 'Utilib_14_taken_sum', 'Utilib_14_returned_sum',\n",
              "       'Slots_freed_sum', 'Slots_taken_sum'],\n",
              "      dtype='object')"
            ]
          },
          "metadata": {
            "tags": []
          },
          "execution_count": 194
        }
      ]
    },
    {
      "cell_type": "code",
      "metadata": {
        "id": "zpdD5EKPsUYi",
        "colab_type": "code",
        "outputId": "8a80cd3a-7eb1-436d-8926-29ecd377f436",
        "colab": {
          "base_uri": "https://localhost:8080/",
          "height": 204
        }
      },
      "source": [
        "#Check for numerical variables\n",
        "print(f'n_daily_data_points:{pd.api.types.is_numeric_dtype(Autolib.n_daily_data_points)}')\n",
        "print(f'dayOfWeek:{pd.api.types.is_numeric_dtype(Autolib.dayOfWeek)}')\n",
        "print(f'day_type:{pd.api.types.is_numeric_dtype(Autolib.day_type)}')\n",
        "print(f'BlueCars_taken_sum:{pd.api.types.is_numeric_dtype(Autolib.BlueCars_taken_sum)}')\n",
        "print(f'BlueCars_returned_sum:{pd.api.types.is_numeric_dtype(Autolib.BlueCars_returned_sum)}')\n",
        "print(f'Utilib_taken_sum:{pd.api.types.is_numeric_dtype(Autolib.Utilib_taken_sum)}')\n",
        "print(f'Utilib_returned_sum:{pd.api.types.is_numeric_dtype(Autolib.Utilib_returned_sum)}')\n",
        "print(f'Utilib_14_taken_sum:{pd.api.types.is_numeric_dtype(Autolib.Utilib_14_taken_sum)}')\n",
        "print(f'Utilib_14_returned_sum:{pd.api.types.is_numeric_dtype(Autolib.Utilib_14_returned_sum)}')\n",
        "print(f'Slots_freed_sum:{pd.api.types.is_numeric_dtype(Autolib.Slots_freed_sum)}')\n",
        "print(f'Slots_taken_sum:{pd.api.types.is_numeric_dtype(Autolib.Slots_taken_sum)}')\n",
        "\n"
      ],
      "execution_count": 0,
      "outputs": [
        {
          "output_type": "stream",
          "text": [
            "n_daily_data_points:True\n",
            "dayOfWeek:True\n",
            "day_type:False\n",
            "BlueCars_taken_sum:True\n",
            "BlueCars_returned_sum:True\n",
            "Utilib_taken_sum:True\n",
            "Utilib_returned_sum:True\n",
            "Utilib_14_taken_sum:True\n",
            "Utilib_14_returned_sum:True\n",
            "Slots_freed_sum:True\n",
            "Slots_taken_sum:True\n"
          ],
          "name": "stdout"
        }
      ]
    },
    {
      "cell_type": "markdown",
      "metadata": {
        "id": "Aq3sabRSBvkV",
        "colab_type": "text"
      },
      "source": [
        "# Checking and Removing Anomalies and Outliers"
      ]
    },
    {
      "cell_type": "code",
      "metadata": {
        "id": "V2IGCmlNB6tK",
        "colab_type": "code",
        "outputId": "76376040-afb3-4307-ac52-b9bc4ef3d4d2",
        "colab": {
          "base_uri": "https://localhost:8080/",
          "height": 556
        }
      },
      "source": [
        "#We will use a function and define all column names with numericals to check and remove outliers \n",
        "\n",
        "def outlier_visualiser(dataset, numerical_columns, width=22, height=10):\n",
        "    \n",
        "    fig_size = plt.rcParams[\"figure.figsize\"]\n",
        "    fig_size[0] = width\n",
        "    fig_size[1] = height\n",
        "    plt.rcParams[\"figure.figsize\"] = fig_size\n",
        "    plt.style.use('fivethirtyeight')\n",
        "    \n",
        "    next_figure = 1\n",
        "    for col in numerical_columns:\n",
        "        plt.subplot(1, len(numerical_columns), next_figure)\n",
        "        dataset.boxplot(col, grid=False)\n",
        "        next_figure = next_figure + 1\n",
        "    plt.title('Box plots to show Outliers')    \n",
        "    plt.show()\n",
        "    \n",
        "#we define our numeric columns list in our dataset then call the funtion for visual display\n",
        "numeric_columns = ['BlueCars_taken_sum', 'BlueCars_returned_sum', 'Utilib_taken_sum',\n",
        "       'Utilib_returned_sum', 'Utilib_14_taken_sum', 'Utilib_14_returned_sum',\n",
        "       'Slots_freed_sum', 'Slots_taken_sum']    \n",
        "outlier_visualiser(Autolib , numeric_columns)\n",
        "\n",
        "#We then count number of outliers in our Autolib Dataset using percentiles\n",
        "def detect_outlier(Autolib1):\n",
        "    outliers=[]\n",
        "    threshold=3\n",
        "    mean_1 = np.mean(Autolib1)\n",
        "    std_1 =np.std(Autolib1)\n",
        "    \n",
        "    for y in Autolib1:\n",
        "        z_score= (y - mean_1)/std_1 \n",
        "        if np.abs(z_score) > threshold:\n",
        "            outliers.append(y)\n",
        "    return outliers\n",
        "#counting number of outliers in our data columns and cheking the percentage for each using z-score\n",
        "for col in numeric_columns:\n",
        "    rows, columns =Autolib.shape\n",
        "    percent_coefficient = float(100 / rows)\n",
        "    outliers = detect_outlier(Autolib[col])\n",
        "    outliers_count = len(outliers)\n",
        "    outliers_percentage = outliers_count * percent_coefficient\n",
        "    print(f\"{col} has {outliers_count} outliers in total, which is {outliers_percentage:.2}% of data\")"
      ],
      "execution_count": 0,
      "outputs": [
        {
          "output_type": "display_data",
          "data": {
            "image/png": "[encoded data removed]",
            "text/plain": [
              "<Figure size 1584x720 with 8 Axes>"
            ]
          },
          "metadata": {
            "tags": []
          }
        },
        {
          "output_type": "stream",
          "text": [
            "BlueCars_taken_sum has 468 outliers in total, which is 2.9% of data\n",
            "BlueCars_returned_sum has 460 outliers in total, which is 2.9% of data\n",
            "Utilib_taken_sum has 391 outliers in total, which is 2.4% of data\n",
            "Utilib_returned_sum has 409 outliers in total, which is 2.5% of data\n",
            "Utilib_14_taken_sum has 419 outliers in total, which is 2.6% of data\n",
            "Utilib_14_returned_sum has 412 outliers in total, which is 2.6% of data\n",
            "Slots_freed_sum has 490 outliers in total, which is 3.0% of data\n",
            "Slots_taken_sum has 474 outliers in total, which is 2.9% of data\n"
          ],
          "name": "stdout"
        }
      ]
    },
    {
      "cell_type": "markdown",
      "metadata": {
        "id": "wXIQhc7UxOCD",
        "colab_type": "text"
      },
      "source": [
        "### Exploratory Analysis"
      ]
    },
    {
      "cell_type": "markdown",
      "metadata": {
        "id": "24nFFJiBzGSV",
        "colab_type": "text"
      },
      "source": [
        "### **1 .Univariate**"
      ]
    },
    {
      "cell_type": "markdown",
      "metadata": {
        "id": "uW5LrIqFldgB",
        "colab_type": "text"
      },
      "source": [
        "## Measures of Central Tendency"
      ]
    },
    {
      "cell_type": "code",
      "metadata": {
        "id": "K8Z_0BFXxboM",
        "colab_type": "code",
        "colab": {}
      },
      "source": [
        "#univariate refers to an expression, equation, function or polynomial of only one variable\n",
        "#Due to our data having almost all columns as numerical and not Categorical, we will perform the Measures of Dependency first.\n"
      ],
      "execution_count": 0,
      "outputs": []
    },
    {
      "cell_type": "markdown",
      "metadata": {
        "id": "1D8jVuqa2wJa",
        "colab_type": "text"
      },
      "source": [
        "a. Mean"
      ]
    },
    {
      "cell_type": "code",
      "metadata": {
        "id": "aOlBoaMI8ktn",
        "colab_type": "code",
        "outputId": "9afc8fa1-79af-45f3-ebdf-f8c372bf471d",
        "colab": {
          "base_uri": "https://localhost:8080/",
          "height": 102
        }
      },
      "source": [
        "Autolib.columns"
      ],
      "execution_count": 0,
      "outputs": [
        {
          "output_type": "execute_result",
          "data": {
            "text/plain": [
              "Index(['Postal_code', 'date', 'n_daily_data_points', 'dayOfWeek', 'day_type',\n",
              "       'BlueCars_taken_sum', 'BlueCars_returned_sum', 'Utilib_taken_sum',\n",
              "       'Utilib_returned_sum', 'Utilib_14_taken_sum', 'Utilib_14_returned_sum',\n",
              "       'Slots_freed_sum', 'Slots_taken_sum'],\n",
              "      dtype='object')"
            ]
          },
          "metadata": {
            "tags": []
          },
          "execution_count": 198
        }
      ]
    },
    {
      "cell_type": "code",
      "metadata": {
        "id": "uoUD7n3P33RI",
        "colab_type": "code",
        "outputId": "775727ea-9f19-4532-9beb-c136731b2e6f",
        "colab": {
          "base_uri": "https://localhost:8080/",
          "height": 170
        }
      },
      "source": [
        "print(f'The Mean of N Daily Data Points is: {Autolib.n_daily_data_points.mean()}')\n",
        "print(f'The Mean  Sum of Blue Cars taken is: {Autolib.BlueCars_taken_sum.mean()}')\n",
        "print(f'The Mean of Sum of Blue Cars returned is: {Autolib.BlueCars_returned_sum.mean()}')\n",
        "print(f'The Mean of Sum of Taken Utilib is: {Autolib.Utilib_taken_sum.mean()}')\n",
        "print(f'The Mean of Sum of Returned Utilib  is: {Autolib.Utilib_returned_sum.mean()}')\n",
        "print(f'The Mean of Sum of Taken Utilib 14 is: {Autolib.Utilib_14_taken_sum.mean()}')\n",
        "print(f'The Mean of the sum of Returned Utilib 14 is: {Autolib.Utilib_14_returned_sum.mean()}')\n",
        "print(f'The Mean of the sum of Slots Freed is: {Autolib.Slots_freed_sum.mean()}')\n",
        "print(f'The Mean of the Sum of Slots Taken Daily Data Points is: {Autolib.Slots_taken_sum.mean()}')"
      ],
      "execution_count": 0,
      "outputs": [
        {
          "output_type": "stream",
          "text": [
            "The Mean of N Daily Data Points is: 1431.3306185887473\n",
            "The Mean  Sum of Blue Cars taken is: 125.92695057506994\n",
            "The Mean of Sum of Blue Cars returned is: 125.912713708424\n",
            "The Mean of Sum of Taken Utilib is: 3.69829033260802\n",
            "The Mean of Sum of Returned Utilib  is: 3.6990985390115014\n",
            "The Mean of Sum of Taken Utilib 14 is: 8.600559527510102\n",
            "The Mean of the sum of Returned Utilib 14 is: 8.599191793596518\n",
            "The Mean of the sum of Slots Freed is: 22.62903326080199\n",
            "The Mean of the Sum of Slots Taken Daily Data Points is: 22.629281939695367\n"
          ],
          "name": "stdout"
        }
      ]
    },
    {
      "cell_type": "markdown",
      "metadata": {
        "id": "KFb8MlDhKx0y",
        "colab_type": "text"
      },
      "source": [
        "b. Mode"
      ]
    },
    {
      "cell_type": "code",
      "metadata": {
        "id": "xXc_xKmN33Li",
        "colab_type": "code",
        "outputId": "9d92d6f8-5896-4b09-960f-583d8bad4fca",
        "colab": {
          "base_uri": "https://localhost:8080/",
          "height": 323
        }
      },
      "source": [
        "print(f'The Mode of N Daily Data Points is: {Autolib.n_daily_data_points.mode()}')\n",
        "print(f'The Mode  Sum of Blue Cars taken is: {Autolib.BlueCars_taken_sum.mode()}')\n",
        "print(f'The Mode of Sum of Blue Cars returned is: {Autolib.BlueCars_returned_sum.mode()}')\n",
        "print(f'The Mode of Sum of Taken Utilib is: {Autolib.Utilib_taken_sum.mode()}')\n",
        "print(f'The Mode of Sum of Returned Utilib  is: {Autolib.Utilib_returned_sum.mode()}')\n",
        "print(f'The Mode of Sum of Taken Utilib 14 is: {Autolib.Utilib_14_taken_sum.mode()}')\n",
        "print(f'The Mode of the sum of Returned Utilib 14 is: {Autolib.Utilib_14_returned_sum.mode()}')\n",
        "print(f'The Mode of the sum of Slots Freed is: {Autolib.Slots_freed_sum.mode()}')\n",
        "print(f'The Mode of the Sum of Slots Taken Daily Data Points is: {Autolib.Slots_taken_sum.mode()}')"
      ],
      "execution_count": 0,
      "outputs": [
        {
          "output_type": "stream",
          "text": [
            "The Mode of N Daily Data Points is: 0    1440\n",
            "dtype: int64\n",
            "The Mode  Sum of Blue Cars taken is: 0    12\n",
            "dtype: int64\n",
            "The Mode of Sum of Blue Cars returned is: 0    13\n",
            "dtype: int64\n",
            "The Mode of Sum of Taken Utilib is: 0    0\n",
            "dtype: int64\n",
            "The Mode of Sum of Returned Utilib  is: 0    0\n",
            "dtype: int64\n",
            "The Mode of Sum of Taken Utilib 14 is: 0    0\n",
            "dtype: int64\n",
            "The Mode of the sum of Returned Utilib 14 is: 0    0\n",
            "dtype: int64\n",
            "The Mode of the sum of Slots Freed is: 0    0\n",
            "dtype: int64\n",
            "The Mode of the Sum of Slots Taken Daily Data Points is: 0    0\n",
            "dtype: int64\n"
          ],
          "name": "stdout"
        }
      ]
    },
    {
      "cell_type": "markdown",
      "metadata": {
        "id": "Ypl5wXSVMW75",
        "colab_type": "text"
      },
      "source": [
        "c. Median"
      ]
    },
    {
      "cell_type": "code",
      "metadata": {
        "id": "FcX9dO0C33GQ",
        "colab_type": "code",
        "outputId": "b2cabee6-f8f0-4f4a-9480-d7d3233850ac",
        "colab": {
          "base_uri": "https://localhost:8080/",
          "height": 170
        }
      },
      "source": [
        "print(f'The Median of N Daily Data Points is: {Autolib.n_daily_data_points.median()}')\n",
        "print(f'The Median  Sum of Blue Cars taken is: {Autolib.BlueCars_taken_sum.median()}')\n",
        "print(f'The Median of Sum of Blue Cars returned is: {Autolib.BlueCars_returned_sum.median()}')\n",
        "print(f'The Median of Sum of Taken Utilib is: {Autolib.Utilib_taken_sum.median()}')\n",
        "print(f'The Median of Sum of Returned Utilib  is: {Autolib.Utilib_returned_sum.median()}')\n",
        "print(f'The Median of Sum of Taken Utilib 14 is: {Autolib.Utilib_14_taken_sum.median()}')\n",
        "print(f'The Median of the sum of Returned Utilib 14 is: {Autolib.Utilib_14_returned_sum.median()}')\n",
        "print(f'The Median of the sum of Slots Freed is: {Autolib.Slots_freed_sum.median()}')\n",
        "print(f'The Median of the Sum of Slots Taken Daily Data Points is: {Autolib.Slots_taken_sum.median()}')"
      ],
      "execution_count": 0,
      "outputs": [
        {
          "output_type": "stream",
          "text": [
            "The Median of N Daily Data Points is: 1440.0\n",
            "The Median  Sum of Blue Cars taken is: 46.0\n",
            "The Median of Sum of Blue Cars returned is: 46.0\n",
            "The Median of Sum of Taken Utilib is: 1.0\n",
            "The Median of Sum of Returned Utilib  is: 1.0\n",
            "The Median of Sum of Taken Utilib 14 is: 3.0\n",
            "The Median of the sum of Returned Utilib 14 is: 3.0\n",
            "The Median of the sum of Slots Freed is: 0.0\n",
            "The Median of the Sum of Slots Taken Daily Data Points is: 0.0\n"
          ],
          "name": "stdout"
        }
      ]
    },
    {
      "cell_type": "code",
      "metadata": {
        "id": "fYUoEN843253",
        "colab_type": "code",
        "outputId": "b3444651-c794-4fea-cc1a-e054ef1ddce8",
        "colab": {
          "base_uri": "https://localhost:8080/",
          "height": 435
        }
      },
      "source": [
        "Autolib['dayOfWeek'].value_counts().plot(kind= 'bar')"
      ],
      "execution_count": 0,
      "outputs": [
        {
          "output_type": "execute_result",
          "data": {
            "text/plain": [
              "<matplotlib.axes._subplots.AxesSubplot at 0x7fc8cce6ecc0>"
            ]
          },
          "metadata": {
            "tags": []
          },
          "execution_count": 202
        },
        {
          "output_type": "display_data",
          "data": {
            "image/png": "[encoded data removed]",
            "text/plain": [
              "<Figure size 1584x720 with 1 Axes>"
            ]
          },
          "metadata": {
            "tags": []
          }
        }
      ]
    },
    {
      "cell_type": "code",
      "metadata": {
        "id": "nZpUfDGV32rj",
        "colab_type": "code",
        "outputId": "61b70e5c-e619-45ec-c4af-44e44f0be156",
        "colab": {
          "base_uri": "https://localhost:8080/",
          "height": 468
        }
      },
      "source": [
        "Autolib['day_type'].value_counts().plot(kind= 'bar')"
      ],
      "execution_count": 0,
      "outputs": [
        {
          "output_type": "execute_result",
          "data": {
            "text/plain": [
              "<matplotlib.axes._subplots.AxesSubplot at 0x7fc8cce6e2e8>"
            ]
          },
          "metadata": {
            "tags": []
          },
          "execution_count": 203
        },
        {
          "output_type": "display_data",
          "data": {
            "image/png": "[encoded data removed]",
            "text/plain": [
              "<Figure size 1584x720 with 1 Axes>"
            ]
          },
          "metadata": {
            "tags": []
          }
        }
      ]
    },
    {
      "cell_type": "markdown",
      "metadata": {
        "id": "TrE-jYYWpCyi",
        "colab_type": "text"
      },
      "source": [
        "Max , Min , Range and Quartiles"
      ]
    },
    {
      "cell_type": "code",
      "metadata": {
        "id": "x0joxZ3mmDJh",
        "colab_type": "code",
        "outputId": "4746e944-3e46-42f5-e1eb-d3693d4f1db3",
        "colab": {
          "base_uri": "https://localhost:8080/",
          "height": 85
        }
      },
      "source": [
        "#n_daily_data_points\n",
        "#n_daily_data_points minimum\n",
        "data_points_min = Autolib['n_daily_data_points'].min()\n",
        "print('The data_points_min is :',data_points_min)\n",
        "\n",
        "#n_daily_data_points maximum\n",
        "data_points_max =Autolib['n_daily_data_points'].max()\n",
        "print('The data_points_max is:',data_points_max)\n",
        "\n",
        "#Calculating the Range of data_points\n",
        "print('The range of n_daily_data_points is :',data_points_max - data_points_min)\n",
        "\n",
        "# upper Quantile\n",
        "\n",
        "q1 =Autolib['n_daily_data_points'].quantile(0.25)\n",
        "\n",
        "#Lower Quantile\n",
        "q3 =Autolib['n_daily_data_points'].quantile(0.75)\n",
        "\n",
        "#interquantile range of  n_daily_data_points\n",
        "\n",
        "print('The interquartile range of n_daily_data_points is:',(q3-q1)/2)"
      ],
      "execution_count": 0,
      "outputs": [
        {
          "output_type": "stream",
          "text": [
            "The data_points_min is : 1174\n",
            "The data_points_max is: 1440\n",
            "The range of n_daily_data_points is : 266\n",
            "The interquartile range of n_daily_data_points is: 0.5\n"
          ],
          "name": "stdout"
        }
      ]
    },
    {
      "cell_type": "code",
      "metadata": {
        "id": "y4JdDNQRoCWt",
        "colab_type": "code",
        "outputId": "1c50fbc0-174e-4ff5-9f8f-a3ebfdd4aea1",
        "colab": {
          "base_uri": "https://localhost:8080/",
          "height": 85
        }
      },
      "source": [
        "#BlueCars_taken_sum\n",
        "\n",
        "#BlueCars_taken_sum minimum\n",
        "BlueCars_taken_sum_min = Autolib['BlueCars_taken_sum'].min()\n",
        "print('the min value of BlueCars_taken_sum is:',BlueCars_taken_sum_min)\n",
        "\n",
        "#BlueCars_taken_sum maximum\n",
        "BlueCars_taken_sum_max =Autolib['BlueCars_taken_sum'].max()\n",
        "print('The max value of BlueCars_taken_sum is:',BlueCars_taken_sum_max)\n",
        "\n",
        "#Calculating the Range of BlueCars_taken_sum\n",
        "print('The range value of is:', BlueCars_taken_sum_max - BlueCars_taken_sum_min)\n",
        "\n",
        "# upper Quantile\n",
        "\n",
        "q1 =Autolib['BlueCars_taken_sum'].quantile(0.25)\n",
        "\n",
        "#Lower Quantile\n",
        "q3 =Autolib['BlueCars_taken_sum'].quantile(0.75)\n",
        "\n",
        "#interquantile range of  BlueCars_taken_sum\n",
        "\n",
        "print('The interquartile range of BlueCars_taken_sum is:',(q3-q1)/2)"
      ],
      "execution_count": 0,
      "outputs": [
        {
          "output_type": "stream",
          "text": [
            "the min value of BlueCars_taken_sum is: 0\n",
            "The max value of BlueCars_taken_sum is: 1352\n",
            "The range value of is: 1352\n",
            "The interquartile range of BlueCars_taken_sum is: 57.5\n"
          ],
          "name": "stdout"
        }
      ]
    },
    {
      "cell_type": "code",
      "metadata": {
        "id": "w_7qN62coCDi",
        "colab_type": "code",
        "outputId": "8a38dbaf-97b2-4607-8fb9-3bdd79b4142a",
        "colab": {
          "base_uri": "https://localhost:8080/",
          "height": 85
        }
      },
      "source": [
        "#BlueCars_returned_sum\n",
        "\n",
        "#BlueCars_returned_sum minimum\n",
        "BlueCars_returned_sum_min = Autolib['BlueCars_returned_sum'].min()\n",
        "print('The min value of BlueCars_returned_sum is:',BlueCars_returned_sum_min)\n",
        "\n",
        "#BlueCars_returned_sum maximum\n",
        "BlueCars_returned_sum_max =Autolib['BlueCars_returned_sum'].max()\n",
        "print('The max value of BlueCars_returned_sum is:',BlueCars_returned_sum_max)\n",
        "\n",
        "#Calculating the Range of BlueCars_returned_sum\n",
        "print('The range value of BlueCars_returned_sum is:',BlueCars_returned_sum_max - BlueCars_returned_sum_min)\n",
        "\n",
        "# upper Quantile\n",
        "\n",
        "q1 =Autolib['BlueCars_returned_sum'].quantile(0.25)\n",
        "\n",
        "#Lower Quantile\n",
        "q3 =Autolib['BlueCars_returned_sum'].quantile(0.75)\n",
        "\n",
        "#interquantile range of  BlueCars_returned_sum\n",
        "\n",
        "print('The range value of BlueCars_returned_sum is:',(q3-q1)/2)"
      ],
      "execution_count": 0,
      "outputs": [
        {
          "output_type": "stream",
          "text": [
            "The min value of BlueCars_returned_sum is: 0\n",
            "The max value of BlueCars_returned_sum is: 1332\n",
            "The range value of BlueCars_returned_sum is: 1332\n",
            "The range value of BlueCars_returned_sum is: 57.5\n"
          ],
          "name": "stdout"
        }
      ]
    },
    {
      "cell_type": "code",
      "metadata": {
        "id": "uq0kZPDYoBxS",
        "colab_type": "code",
        "outputId": "7163dbe6-499f-4b52-9bab-c3a63e07c5d5",
        "colab": {
          "base_uri": "https://localhost:8080/",
          "height": 85
        }
      },
      "source": [
        "#Utilib_taken_sum\n",
        "\n",
        "#Utilib_taken_sum minimum\n",
        "Utilib_taken_sum_min = Autolib['Utilib_taken_sum'].min()\n",
        "print('The Utilib_taken_sum_min is:',Utilib_taken_sum_min)\n",
        "\n",
        "#Utilib_taken_sum maximum\n",
        "Utilib_taken_sum_max =Autolib['Utilib_taken_sum'].max()\n",
        "print('The Utilib_taken_sum_max is:',Utilib_taken_sum_max)\n",
        "\n",
        "#Calculating the Range of Utilib_taken_sum\n",
        "print('The range of Utilib_taken_sum is :',Utilib_taken_sum_max - Utilib_taken_sum_min)\n",
        "\n",
        "# upper Quantile\n",
        "\n",
        "q1 =Autolib['Utilib_taken_sum'].quantile(0.25)\n",
        "\n",
        "#Lower Quantile\n",
        "q3 =Autolib['Utilib_taken_sum'].quantile(0.75)\n",
        "\n",
        "#interquantile range of Utilib_taken_sum\n",
        "\n",
        "print('The interquartile of Utilib_taken_sum is:', (q3-q1)/2)"
      ],
      "execution_count": 0,
      "outputs": [
        {
          "output_type": "stream",
          "text": [
            "The Utilib_taken_sum_min is: 0\n",
            "The Utilib_taken_sum_max is: 54\n",
            "The range of Utilib_taken_sum is : 54\n",
            "The interquartile of Utilib_taken_sum is: 2.0\n"
          ],
          "name": "stdout"
        }
      ]
    },
    {
      "cell_type": "code",
      "metadata": {
        "id": "6kZUJ5gyoBpL",
        "colab_type": "code",
        "outputId": "986ec226-b4b8-4dd0-c72c-85e4359bc4b7",
        "colab": {
          "base_uri": "https://localhost:8080/",
          "height": 85
        }
      },
      "source": [
        "#Slots_freed_sum\n",
        "\n",
        "#Slots_freed_sum minimum\n",
        "Slots_freed_sum_min = Autolib['Slots_freed_sum'].min()\n",
        "print('The min of Slots_freed_sum is:',Slots_freed_sum_min)\n",
        "\n",
        "#Slots_freed_sum maximum\n",
        "Slots_freed_sum_max =Autolib['Slots_freed_sum'].max()\n",
        "print('The max of Slots_freed is:',Slots_freed_sum_max)\n",
        "\n",
        "#Calculating the Range of Slots_freed_sum\n",
        "print('The range of Slots_freed_sum is :',Slots_freed_sum_max - Slots_freed_sum_min)\n",
        "\n",
        "# upper Quantile\n",
        "\n",
        "q1 =Autolib['Slots_freed_sum'].quantile(0.25)\n",
        "\n",
        "#Lower Quantile\n",
        "q3 =Autolib['Slots_freed_sum'].quantile(0.75)\n",
        "\n",
        "#interquantile range of  Slots_freed_sum\n",
        "\n",
        "print( 'The interquartile range of Slots_freed_sum is:',(q3-q1)/2)"
      ],
      "execution_count": 0,
      "outputs": [
        {
          "output_type": "stream",
          "text": [
            "The min of Slots_freed_sum is: 0\n",
            "The max of Slots_freed is: 360\n",
            "The range of Slots_freed_sum is : 360\n",
            "The interquartile range of Slots_freed_sum is: 2.5\n"
          ],
          "name": "stdout"
        }
      ]
    },
    {
      "cell_type": "code",
      "metadata": {
        "id": "B9KScQeJoBgV",
        "colab_type": "code",
        "outputId": "dc85c2ca-56da-4194-a4af-d4cbecbdb792",
        "colab": {
          "base_uri": "https://localhost:8080/",
          "height": 85
        }
      },
      "source": [
        "#Utilib_returned_sum\n",
        "\n",
        "#Utilib_returned_sum minimum\n",
        "Utilib_returned_sum_min = Autolib['Utilib_returned_sum'].min()\n",
        "print('The min of Utilib_returned_sum is :',Utilib_returned_sum_min)\n",
        "\n",
        "#Utilib_returned_sum maximum\n",
        "Utilib_returned_sum_max =Autolib['Utilib_returned_sum'].max()\n",
        "print('The max of Utilib_returned_sum is :',Utilib_returned_sum_max)\n",
        "\n",
        "#Calculating the Range of Utilib_returned_sum\n",
        "print('The range of Utilib_returned_sum is:',Utilib_returned_sum_max - Utilib_returned_sum_min)\n",
        "\n",
        "# upper Quantile\n",
        "\n",
        "q1 =Autolib['Utilib_returned_sum'].quantile(0.25)\n",
        "\n",
        "#Lower Quantile\n",
        "q3 =Autolib['Utilib_returned_sum'].quantile(0.75)\n",
        "\n",
        "#interquantile range of  Utilib_returned_sum\n",
        "\n",
        "print('The interquartile range of Utilib_returned_sum is:', (q3-q1)/2)"
      ],
      "execution_count": 0,
      "outputs": [
        {
          "output_type": "stream",
          "text": [
            "The min of Utilib_returned_sum is : 0\n",
            "The max of Utilib_returned_sum is : 58\n",
            "The range of Utilib_returned_sum is: 58\n",
            "The interquartile range of Utilib_returned_sum is: 2.0\n"
          ],
          "name": "stdout"
        }
      ]
    },
    {
      "cell_type": "code",
      "metadata": {
        "id": "jx6TcRkwoBTd",
        "colab_type": "code",
        "outputId": "923fcf5a-67c4-4052-bfad-574141817452",
        "colab": {
          "base_uri": "https://localhost:8080/",
          "height": 85
        }
      },
      "source": [
        "#Utilib_14_taken_sum\n",
        "\n",
        "#Utilib_14_taken_sum minimum\n",
        "Utilib_14_taken_sum_min = Autolib['Utilib_14_taken_sum'].min()\n",
        "print('The Utilib_14_taken_sum_min is ',Utilib_14_taken_sum_min)\n",
        "\n",
        "\n",
        "#Utilib_14_taken_sum maximum\n",
        "Utilib_14_taken_sum_max =Autolib['Utilib_14_taken_sum'].max()\n",
        "print('The Utilib_14_taken_sum_max is ',Utilib_14_taken_sum_max)\n",
        "\n",
        "#Calculating the Range of Utilib_14_taken_sum\n",
        "print('The range for Utilib_14_taken_sum is:',Utilib_14_taken_sum_max - Utilib_14_taken_sum_min)\n",
        "\n",
        "# upper Quantile\n",
        "\n",
        "q1 =Autolib['Utilib_14_taken_sum'].quantile(0.25)\n",
        "\n",
        "#Lower Quantile\n",
        "q3 =Autolib['Utilib_14_taken_sum'].quantile(0.75)\n",
        "\n",
        "#interquantile range of  Utilib_14_taken_sum\n",
        "\n",
        "print('Utilib_14_taken_sum interquartile range is', (q3-q1)/2)"
      ],
      "execution_count": 0,
      "outputs": [
        {
          "output_type": "stream",
          "text": [
            "The Utilib_14_taken_sum_min is  0\n",
            "The Utilib_14_taken_sum_max is  100\n",
            "The range for Utilib_14_taken_sum is: 100\n",
            "Utilib_14_taken_sum interquartile range is 4.5\n"
          ],
          "name": "stdout"
        }
      ]
    },
    {
      "cell_type": "code",
      "metadata": {
        "id": "LakJLETwoBCj",
        "colab_type": "code",
        "outputId": "7afb6e68-0b5e-4fd4-f093-b2ada3c88872",
        "colab": {
          "base_uri": "https://localhost:8080/",
          "height": 85
        }
      },
      "source": [
        "\n",
        "\n",
        "#Utilib_14_returned_sum minimum\n",
        "Utilib_14_returned_sum_min = Autolib['Utilib_14_returned_sum'].min()\n",
        "print('The Utilib_14_returned_sum_min is:', Utilib_14_returned_sum_min)\n",
        "\n",
        "\n",
        "#Utilib_14_returned_sum maximum\n",
        "Utilib_14_returned_sum_max =Autolib['Utilib_14_returned_sum'].max()\n",
        "print('The Utilib_14_returned_sum_max is:', Utilib_14_returned_sum_max)\n",
        "\n",
        "#Calculating the Range of Utilib_14_returned_sum\n",
        "print('The range of Utilib_14_returned_sum is ',data_points_max - Utilib_14_returned_sum_min)\n",
        "\n",
        "# upper Quantile\n",
        "\n",
        "q1 =Autolib['Utilib_14_returned_sum'].quantile(0.25)\n",
        "\n",
        "#Lower Quantile\n",
        "q3 =Autolib['Utilib_14_returned_sum'].quantile(0.75)\n",
        "\n",
        "#interquantile range of  Utilib_14_returned_sum\n",
        "\n",
        "print('Utilib_14_returned_sum interquartile range is: ',(q3-q1)/2)"
      ],
      "execution_count": 0,
      "outputs": [
        {
          "output_type": "stream",
          "text": [
            "The Utilib_14_returned_sum_min is: 0\n",
            "The Utilib_14_returned_sum_max is: 101\n",
            "The range of Utilib_14_returned_sum is  1440\n",
            "Utilib_14_returned_sum interquartile range is:  4.5\n"
          ],
          "name": "stdout"
        }
      ]
    },
    {
      "cell_type": "code",
      "metadata": {
        "id": "KIvYPGiEoA6X",
        "colab_type": "code",
        "outputId": "c012f2a0-5785-4117-f37f-c40789e71d41",
        "colab": {
          "base_uri": "https://localhost:8080/",
          "height": 85
        }
      },
      "source": [
        "\n",
        "\n",
        "#Slots_taken_sum minimum\n",
        "Slots_taken_sum_min = Autolib['Slots_taken_sum'].min()\n",
        "print('The Slots_taken_sum_min is',Slots_taken_sum_min)\n",
        "\n",
        "#Slots_taken_sum maximum\n",
        "Slots_taken_sum_max =Autolib['Slots_taken_sum'].max()\n",
        "print('The Slots_taken_sum_max is',Slots_taken_sum_max)\n",
        "\n",
        "#Calculating the Range of Slots_taken_sum\n",
        "print('The Range for Slots_taken_sum is', Slots_taken_sum_max - Slots_taken_sum_min)\n",
        "\n",
        "# upper Quantile\n",
        "\n",
        "q1 =Autolib['Slots_taken_sum'].quantile(0.25)\n",
        "\n",
        "#Lower Quantile\n",
        "q3 =Autolib['Slots_taken_sum'].quantile(0.75)\n",
        "\n",
        "#interquantile range of  Slots_taken_sum\n",
        "\n",
        "print('The Slots_taken_sum_interquartile is',(q3-q1)/2)"
      ],
      "execution_count": 0,
      "outputs": [
        {
          "output_type": "stream",
          "text": [
            "The Slots_taken_sum_min is 0\n",
            "The Slots_taken_sum_max is 359\n",
            "The Range for Slots_taken_sum is 359\n",
            "The Slots_taken_sum_interquartile is 2.5\n"
          ],
          "name": "stdout"
        }
      ]
    },
    {
      "cell_type": "markdown",
      "metadata": {
        "id": "aeglM6lIR8B5",
        "colab_type": "text"
      },
      "source": [
        "  # 2.Bivariate"
      ]
    },
    {
      "cell_type": "markdown",
      "metadata": {
        "id": "9wAm6yUuYkFo",
        "colab_type": "text"
      },
      "source": [
        "Numerical variables"
      ]
    },
    {
      "cell_type": "code",
      "metadata": {
        "id": "rQ92IR2NY8Oc",
        "colab_type": "code",
        "colab": {}
      },
      "source": [
        "#Descibe Numerical variables\n",
        "Numerical_variables = ['n_daily_data_points', 'BlueCars_taken_sum', 'BlueCars_returned_sum', 'Utilib_taken_sum',\n",
        "       'Utilib_returned_sum', 'Utilib_14_taken_sum', 'Utilib_14_returned_sum','Slots_freed_sum', 'Slots_taken_sum']"
      ],
      "execution_count": 0,
      "outputs": []
    },
    {
      "cell_type": "code",
      "metadata": {
        "id": "RIZ9viAT32Sx",
        "colab_type": "code",
        "outputId": "4bd2643e-5e13-4d97-c261-e2bef3063207",
        "colab": {
          "base_uri": "https://localhost:8080/",
          "height": 1000
        }
      },
      "source": [
        "#frequency distributions for our numerical variables\n",
        "fig, ax = plt.subplots(len(Numerical_variables), figsize=(8,35))\n",
        "\n",
        "for i, col_val in enumerate(Numerical_variables):\n",
        "    sns.distplot(Autolib[col_val], hist=True, ax=ax[i], color='Blue')\n",
        "    ax[i].set_xlabel(col_val, fontsize=12)\n",
        "    ax[i].set_ylabel('Count', fontsize=12)"
      ],
      "execution_count": 0,
      "outputs": [
        {
          "output_type": "display_data",
          "data": {
            "image/png": "[encoded data removed]",
            "text/plain": [
              "<Figure size 576x2520 with 9 Axes>"
            ]
          },
          "metadata": {
            "tags": []
          }
        }
      ]
    },
    {
      "cell_type": "markdown",
      "metadata": {
        "id": "bBUbS-iklodJ",
        "colab_type": "text"
      },
      "source": [
        "Correlation"
      ]
    },
    {
      "cell_type": "code",
      "metadata": {
        "id": "7m2QcbUP9H_u",
        "colab_type": "code",
        "outputId": "072efa04-ca81-40dd-9663-8ed5ca0b1a3c",
        "colab": {
          "base_uri": "https://localhost:8080/",
          "height": 790
        }
      },
      "source": [
        "#Correlation Matrix\n",
        "\n",
        "CorrMatt = Autolib.corr()\n",
        "\n",
        "fig, ax = plt.subplots(figsize =(10,10))\n",
        "sns.heatmap(CorrMatt , annot = True , linewidths = .5 , vmin =-1, vmax =1 ,cmap = sns.diverging_palette(20,220, n=256), ax=ax)\n",
        "plt.title = ('Correlations between the Variables')\n",
        "\n",
        "\n",
        "\n"
      ],
      "execution_count": 0,
      "outputs": [
        {
          "output_type": "display_data",
          "data": {
            "image/png": "[encoded data removed]",
            "text/plain": [
              "<Figure size 720x720 with 2 Axes>"
            ]
          },
          "metadata": {
            "tags": []
          }
        }
      ]
    },
    {
      "cell_type": "markdown",
      "metadata": {
        "id": "cTSCur_f893W",
        "colab_type": "text"
      },
      "source": [
        "There is a **positive perfect correlation** betewen the following variables\n",
        " 1. Sum of Slots Taken and Sum of Slots freed\n",
        " 2. Blue Cars Returned Sum and Blue Cars taken\n",
        "\n",
        "There is a **High positive correlation** between the following variables Sum of Slots Taken and\n",
        " 1.  Sum of Blue Cars taken with a correlation of **0.95**\n",
        " 2.  Sum of Blue cars returned with a correlation of **0.95**\n",
        " 3.  Sum of Utilib Cars taken with a correlation of **0.85**\n",
        " 4.  Sum of Utilib Cars returned with a correlation of **0.85**\n",
        " 5.  Sum of Utilib 14 Cars taken with a correlation of **0.9**\n",
        " 6. Sum of Utilib 14 Cars returned with a correlation of **0.9**"
      ]
    },
    {
      "cell_type": "markdown",
      "metadata": {
        "id": "pHL7KVzY_0S5",
        "colab_type": "text"
      },
      "source": [
        "\n",
        "There is a **High positive correlation** between the following variables Sum of Slots Freed and\n",
        " 1.  Sum of Blue Cars taken with a correlation of **0.95**\n",
        " 2.  Sum of Blue cars returned with a correlation of **0.95**\n",
        " 3.  Sum of Utilib Cars taken with a correlation of **0.85**\n",
        " 4.  Sum of Utilib Cars returned with a correlation of **0.85**\n",
        " 5.  Sum of Utilib 14 Cars taken with a correlation of **0.9**\n",
        " 6. Sum of Utilib 14 Cars returned with a correlation of **0.9**\n",
        "\n",
        "There is a **wealkly positive correlation** between Sum of Slots Frees and n_daily_data_points with a correlation of **0.021**\n"
      ]
    },
    {
      "cell_type": "markdown",
      "metadata": {
        "id": "I7lvvxBBnmYZ",
        "colab_type": "text"
      },
      "source": [
        "There is a  **Highly positive Correlation** between **Sum of taken Utilib 14** with the variables \n",
        "1.  Sum of Blue Cars taken with a correlation of **0.94**\n",
        " 2.  Sum of Blue cars returned with a correlation of **0.94**\n",
        " 3.  Sum of Utilib Cars taken with a correlation of **0.85**\n",
        " 4.  Sum of Utilib Cars returned with a correlation of **0.85**\n",
        " 5.  Sum of freed sum taken with a correlation of **0.9**\n",
        " 6. Sum of Slots_taken returned with a correlation of **0.9**\n",
        "\n",
        "There is a **weakly positive Correlation** between **Sum of Utilib 14 returned** and\n",
        "1. n_daily_data_points with a correlation of **0.026**\n",
        "2. Day of the week  with a correlation of **0.071**"
      ]
    },
    {
      "cell_type": "markdown",
      "metadata": {
        "id": "oapx_cOmpZN0",
        "colab_type": "text"
      },
      "source": [
        "There is a **Highly positive Correlation** between **Sum of returned Utilib 14** with the variables \n",
        "1.  Sum of Blue Cars taken with a correlation of **0.94**\n",
        " 2.  Sum of Blue cars returned with a correlation of **0.94**\n",
        " 3.  Sum of Utilib Cars taken with a correlation of **0.85**\n",
        " 4.  Sum of Utilib Cars returned with a correlation of **0.85**\n",
        " 5.  Sum of freed sum taken with a correlation of **0.9**\n",
        " 6. Sum of Slots_taken returned with a correlation of **0.9**\n",
        "\n",
        " There is a **weakly positive Correlation** between **Sum of Utilib 14 returned** and\n",
        "1. n_daily_data_points with a correlation of **0.026**\n",
        "2. Day of the week  with a correlation of **0.069**"
      ]
    },
    {
      "cell_type": "markdown",
      "metadata": {
        "id": "bxhJrSvXry7v",
        "colab_type": "text"
      },
      "source": [
        ""
      ]
    },
    {
      "cell_type": "code",
      "metadata": {
        "id": "E11YrNrCBTSD",
        "colab_type": "code",
        "colab": {}
      },
      "source": [
        ""
      ],
      "execution_count": 0,
      "outputs": []
    },
    {
      "cell_type": "markdown",
      "metadata": {
        "id": "ijhWrFCVeAyF",
        "colab_type": "text"
      },
      "source": [
        "## HYPOTHESIS TESTING"
      ]
    },
    {
      "cell_type": "markdown",
      "metadata": {
        "id": "BCQJZUZjeKp7",
        "colab_type": "text"
      },
      "source": [
        "Hypothesis testing is a  statistical method used in making statistical decisions using experimental data"
      ]
    },
    {
      "cell_type": "code",
      "metadata": {
        "id": "lB7iFpyreH2N",
        "colab_type": "code",
        "colab": {}
      },
      "source": [
        "from scipy.stats import ttest_ind\n"
      ],
      "execution_count": 0,
      "outputs": []
    },
    {
      "cell_type": "code",
      "metadata": {
        "id": "I1JNZmOXKr6o",
        "colab_type": "code",
        "outputId": "1c255793-ef36-44cf-8004-0bbba4771d18",
        "colab": {
          "base_uri": "https://localhost:8080/",
          "height": 102
        }
      },
      "source": [
        "Autolib.columns"
      ],
      "execution_count": 0,
      "outputs": [
        {
          "output_type": "execute_result",
          "data": {
            "text/plain": [
              "Index(['Postal_code', 'date', 'n_daily_data_points', 'dayOfWeek', 'day_type',\n",
              "       'BlueCars_taken_sum', 'BlueCars_returned_sum', 'Utilib_taken_sum',\n",
              "       'Utilib_returned_sum', 'Utilib_14_taken_sum', 'Utilib_14_returned_sum',\n",
              "       'Slots_freed_sum', 'Slots_taken_sum'],\n",
              "      dtype='object')"
            ]
          },
          "metadata": {
            "tags": []
          },
          "execution_count": 217
        }
      ]
    },
    {
      "cell_type": "markdown",
      "metadata": {
        "id": "BLwFbBj8Uft8",
        "colab_type": "text"
      },
      "source": [
        "Blue Cars  taken and returned T-test"
      ]
    },
    {
      "cell_type": "code",
      "metadata": {
        "id": "Mke2sWqvaKGn",
        "colab_type": "code",
        "outputId": "a6510ca6-3e34-488f-c79e-5bfb7e4d54be",
        "colab": {
          "base_uri": "https://localhost:8080/",
          "height": 221
        }
      },
      "source": [
        " #Find the mean of the Blue Cars Taken\n",
        " BlueCars_taken_mean = Autolib['BlueCars_taken_sum'].mean\n",
        " #Print Mean\n",
        "print('Mean for BlueCars_taken_sum is',BlueCars_taken_mean)"
      ],
      "execution_count": 0,
      "outputs": [
        {
          "output_type": "stream",
          "text": [
            "Mean for BlueCars_taken_sum is <bound method Series.mean of 0        110\n",
            "1         98\n",
            "2        138\n",
            "3        104\n",
            "4        114\n",
            "        ... \n",
            "16080     15\n",
            "16081     19\n",
            "16082     33\n",
            "16083     11\n",
            "16084      2\n",
            "Name: BlueCars_taken_sum, Length: 16085, dtype: int64>\n"
          ],
          "name": "stdout"
        }
      ]
    },
    {
      "cell_type": "code",
      "metadata": {
        "id": "HwdnLf9jxOro",
        "colab_type": "code",
        "outputId": "49675281-4593-475b-c82e-b6da1c01906c",
        "colab": {
          "base_uri": "https://localhost:8080/",
          "height": 221
        }
      },
      "source": [
        "#Compute the mean for Blue Cars Returned\n",
        "BlueCars_returned_mean =Autolib['BlueCars_returned_sum'].mean\n",
        "#Show the mean\n",
        "BlueCars_returned_mean"
      ],
      "execution_count": 0,
      "outputs": [
        {
          "output_type": "execute_result",
          "data": {
            "text/plain": [
              "<bound method Series.mean of 0        103\n",
              "1         94\n",
              "2        139\n",
              "3        104\n",
              "4        117\n",
              "        ... \n",
              "16080     10\n",
              "16081     19\n",
              "16082     35\n",
              "16083     14\n",
              "16084      2\n",
              "Name: BlueCars_returned_sum, Length: 16085, dtype: int64>"
            ]
          },
          "metadata": {
            "tags": []
          },
          "execution_count": 256
        }
      ]
    },
    {
      "cell_type": "code",
      "metadata": {
        "id": "xAYpIR7e0Nn4",
        "colab_type": "code",
        "outputId": "76f73bc5-98ad-4dba-bc75-48782905cf30",
        "colab": {
          "base_uri": "https://localhost:8080/",
          "height": 34
        }
      },
      "source": [
        "#Find the Standard Deviation for BLue cars taken\n",
        "Blue_cars_taken_Std = Autolib['BlueCars_taken_sum'].std(ddof=1)\n",
        "#Print the standard deviation for blue Cars taken\n",
        "Blue_cars_taken_Std"
      ],
      "execution_count": 0,
      "outputs": [
        {
          "output_type": "execute_result",
          "data": {
            "text/plain": [
              "185.42657876727893"
            ]
          },
          "metadata": {
            "tags": []
          },
          "execution_count": 252
        }
      ]
    },
    {
      "cell_type": "code",
      "metadata": {
        "id": "Q48i5Xmg2c_4",
        "colab_type": "code",
        "outputId": "f2518afe-3e2f-42e1-ad81-372ace42bf7e",
        "colab": {
          "base_uri": "https://localhost:8080/",
          "height": 34
        }
      },
      "source": [
        "#Find the standard deviation for Blue Cars returned\n",
        "Blue_cars_returned_std = Autolib['BlueCars_returned_sum'].std(ddof =1)\n",
        "#Print the standard deviation for blue Cars returned\n",
        "Blue_cars_returned_std"
      ],
      "execution_count": 0,
      "outputs": [
        {
          "output_type": "execute_result",
          "data": {
            "text/plain": [
              "185.50153480148427"
            ]
          },
          "metadata": {
            "tags": []
          },
          "execution_count": 253
        }
      ]
    },
    {
      "cell_type": "code",
      "metadata": {
        "id": "7mZH2TTg3ZNO",
        "colab_type": "code",
        "colab": {}
      },
      "source": [
        "#Renaming so as to get better variablessto perform the t-test\n",
        "BlueCars_taken = Autolib['BlueCars_taken_sum']\n",
        "BlueCars_returned = Autolib['BlueCars_returned_sum']"
      ],
      "execution_count": 0,
      "outputs": []
    },
    {
      "cell_type": "markdown",
      "metadata": {
        "id": "MCcC6lV-7Us2",
        "colab_type": "text"
      },
      "source": [
        "T-test formulae"
      ]
    },
    {
      "cell_type": "code",
      "metadata": {
        "id": "u9PTi6-B3Gh8",
        "colab_type": "code",
        "outputId": "a0488987-e406-4150-e695-4fdfa65e3ba0",
        "colab": {
          "base_uri": "https://localhost:8080/",
          "height": 34
        }
      },
      "source": [
        "ttest, pval = ttest_ind(BlueCars_taken,BlueCars_returned)\n",
        "print('Pvalue = ', pval)"
      ],
      "execution_count": 0,
      "outputs": [
        {
          "output_type": "stream",
          "text": [
            "Pvalue =  0.994507330804926\n"
          ],
          "name": "stdout"
        }
      ]
    },
    {
      "cell_type": "code",
      "metadata": {
        "id": "q_R8naIB4QfN",
        "colab_type": "code",
        "outputId": "fac6b318-725c-45c7-e118-9a9e2e9f23f7",
        "colab": {
          "base_uri": "https://localhost:8080/",
          "height": 54
        }
      },
      "source": [
        "if pval< 0.05 :\n",
        "  print('We therefore reject the null hypothesis and conclude that Blue_Cars taken is not any different from Blue Cars returned at 5% level of significance ')\n",
        "else:\n",
        "  print('We therefore fail to reject the null hypothesis and conclude  that the Blue Cars returned have a substantial difference from Blue cars taken at 5% level of significance')\n"
      ],
      "execution_count": 0,
      "outputs": [
        {
          "output_type": "stream",
          "text": [
            "We therefore fail to reject the null hypothesis and conclude  that the BLue Cars returned have a substantial difference from Blue cars taken at 5% level of significance\n"
          ],
          "name": "stdout"
        }
      ]
    },
    {
      "cell_type": "markdown",
      "metadata": {
        "id": "PU3I_3VGVFjo",
        "colab_type": "text"
      },
      "source": [
        "Utilib  Cars taken and returned T-test"
      ]
    },
    {
      "cell_type": "code",
      "metadata": {
        "id": "nzOVChW381CY",
        "colab_type": "code",
        "outputId": "9afcd54b-960d-4d1d-bb94-019920d114eb",
        "colab": {
          "base_uri": "https://localhost:8080/",
          "height": 34
        }
      },
      "source": [
        "Utilib_taken_mean = Autolib['Utilib_taken_sum']. mean()\n",
        "Utilib_taken_mean"
      ],
      "execution_count": 0,
      "outputs": [
        {
          "output_type": "execute_result",
          "data": {
            "text/plain": [
              "3.69829033260802"
            ]
          },
          "metadata": {
            "tags": []
          },
          "execution_count": 259
        }
      ]
    },
    {
      "cell_type": "code",
      "metadata": {
        "id": "sIC17oaAWY4P",
        "colab_type": "code",
        "outputId": "2de7a3bb-7800-472d-e9a0-b77964cddda2",
        "colab": {
          "base_uri": "https://localhost:8080/",
          "height": 34
        }
      },
      "source": [
        "Utilib_returned_mean = Autolib['Utilib_returned_sum'].mean()\n",
        "Utilib_returned_mean"
      ],
      "execution_count": 0,
      "outputs": [
        {
          "output_type": "execute_result",
          "data": {
            "text/plain": [
              "3.6990985390115014"
            ]
          },
          "metadata": {
            "tags": []
          },
          "execution_count": 260
        }
      ]
    },
    {
      "cell_type": "markdown",
      "metadata": {
        "id": "gjWAwOa6XiLE",
        "colab_type": "text"
      },
      "source": [
        "\n",
        "Standard deviation\n",
        "\n",
        "\n"
      ]
    },
    {
      "cell_type": "code",
      "metadata": {
        "id": "AE4Y0K9mW1ZI",
        "colab_type": "code",
        "outputId": "bf526763-30d7-406d-c059-fae87d1b5466",
        "colab": {
          "base_uri": "https://localhost:8080/",
          "height": 34
        }
      },
      "source": [
        "#Find the standard deviation for Utilib taken taken\n",
        "Utilib_taken_std = Autolib['Utilib_taken_sum'].std(ddof =1)\n",
        "#Print the standard deviation for blue Cars returned\n",
        "Utilib_taken_std"
      ],
      "execution_count": 0,
      "outputs": [
        {
          "output_type": "execute_result",
          "data": {
            "text/plain": [
              "5.815057779367249"
            ]
          },
          "metadata": {
            "tags": []
          },
          "execution_count": 262
        }
      ]
    },
    {
      "cell_type": "code",
      "metadata": {
        "id": "dq9BKYJ8XKqb",
        "colab_type": "code",
        "outputId": "6212cb37-8937-4e5e-aec5-17cb1ca24cf0",
        "colab": {
          "base_uri": "https://localhost:8080/",
          "height": 34
        }
      },
      "source": [
        "#Find the standard deviation for Utilib returned taken\n",
        "Utilib_returned_std = Autolib['Utilib_returned_sum'].std(ddof =1)\n",
        "#Print the standard deviation for blue Cars returned\n",
        "Utilib_returned_std"
      ],
      "execution_count": 0,
      "outputs": [
        {
          "output_type": "execute_result",
          "data": {
            "text/plain": [
              "5.824634228651658"
            ]
          },
          "metadata": {
            "tags": []
          },
          "execution_count": 263
        }
      ]
    },
    {
      "cell_type": "markdown",
      "metadata": {
        "id": "TP0esxqvX8r_",
        "colab_type": "text"
      },
      "source": [
        "T- test Utilib "
      ]
    },
    {
      "cell_type": "code",
      "metadata": {
        "id": "cyWAfr3eYO4Z",
        "colab_type": "code",
        "outputId": "4ba4ef57-6846-40cf-e72e-c9ccf2c71b2b",
        "colab": {
          "base_uri": "https://localhost:8080/",
          "height": 34
        }
      },
      "source": [
        "utilib_taken = Autolib['Utilib_14_taken_sum']\n",
        "utilib_returned = Autolib['Utilib_returned_sum']\n",
        "\n",
        "ttest, pval = ttest_ind(utilib_taken,utilib_returned )\n",
        "print('Pvalue = ', pval)"
      ],
      "execution_count": 0,
      "outputs": [
        {
          "output_type": "stream",
          "text": [
            "Pvalue =  0.0\n"
          ],
          "name": "stdout"
        }
      ]
    },
    {
      "cell_type": "code",
      "metadata": {
        "id": "uNDL4zt9X8BH",
        "colab_type": "code",
        "outputId": "2a7cafb4-1e25-4e9f-b95d-286df76c6cae",
        "colab": {
          "base_uri": "https://localhost:8080/",
          "height": 54
        }
      },
      "source": [
        "if pval< 0.05 :\n",
        "  print('We therefore reject the null hypothesis and conclude that Utilib taken is not any different from Utilib returned at 5% level of significance ')\n",
        "else:\n",
        "  print('We therefore fail to reject the null hypothesis and conclude  that the Utilib returned have a substantial difference from utilib taken at 5% level of significance')\n"
      ],
      "execution_count": 0,
      "outputs": [
        {
          "output_type": "stream",
          "text": [
            "We therefore reject the null hypothesis and conclude that Utilib taken is not any different from Utilib returned at 5% level of significance \n"
          ],
          "name": "stdout"
        }
      ]
    },
    {
      "cell_type": "markdown",
      "metadata": {
        "id": "XbpOXWcQaE3b",
        "colab_type": "text"
      },
      "source": [
        "Utilib 14 T-Test "
      ]
    },
    {
      "cell_type": "code",
      "metadata": {
        "id": "kWPNgY_nbP_n",
        "colab_type": "code",
        "colab": {}
      },
      "source": [
        "#mean"
      ],
      "execution_count": 0,
      "outputs": []
    },
    {
      "cell_type": "code",
      "metadata": {
        "id": "b7dC-04vZyyA",
        "colab_type": "code",
        "outputId": "b3450aea-e16a-4c34-a426-064e71f62fd1",
        "colab": {
          "base_uri": "https://localhost:8080/",
          "height": 34
        }
      },
      "source": [
        "Utilib_14_taken_mean = Autolib['Utilib_14_taken_sum'].mean()\n",
        "Utilib_14_taken_mean"
      ],
      "execution_count": 0,
      "outputs": [
        {
          "output_type": "execute_result",
          "data": {
            "text/plain": [
              "8.600559527510102"
            ]
          },
          "metadata": {
            "tags": []
          },
          "execution_count": 266
        }
      ]
    },
    {
      "cell_type": "code",
      "metadata": {
        "id": "PbOS_hlNbCvV",
        "colab_type": "code",
        "outputId": "55fd61b4-8a31-4683-83eb-d4a1e89b64af",
        "colab": {
          "base_uri": "https://localhost:8080/",
          "height": 34
        }
      },
      "source": [
        "Utilib_14_returned_mean = Autolib['Utilib_14_returned_sum'].mean()\n",
        "Utilib_14_returned_mean"
      ],
      "execution_count": 0,
      "outputs": [
        {
          "output_type": "execute_result",
          "data": {
            "text/plain": [
              "8.599191793596518"
            ]
          },
          "metadata": {
            "tags": []
          },
          "execution_count": 267
        }
      ]
    },
    {
      "cell_type": "code",
      "metadata": {
        "id": "j7fcoZqVbVqi",
        "colab_type": "code",
        "colab": {}
      },
      "source": [
        "#Std"
      ],
      "execution_count": 0,
      "outputs": []
    },
    {
      "cell_type": "code",
      "metadata": {
        "id": "ltlwN6OzbZBg",
        "colab_type": "code",
        "outputId": "d58c988f-25e5-4379-f222-633c667d8ab8",
        "colab": {
          "base_uri": "https://localhost:8080/",
          "height": 34
        }
      },
      "source": [
        "Utilib_14_taken_std = Autolib['Utilib_14_taken_sum'].std()\n",
        "Utilib_14_taken_std"
      ],
      "execution_count": 0,
      "outputs": [
        {
          "output_type": "execute_result",
          "data": {
            "text/plain": [
              "12.870098297095637"
            ]
          },
          "metadata": {
            "tags": []
          },
          "execution_count": 268
        }
      ]
    },
    {
      "cell_type": "code",
      "metadata": {
        "id": "4HO6wy_3bam3",
        "colab_type": "code",
        "outputId": "24940f85-ae2e-46a4-a938-fd3391cd7a61",
        "colab": {
          "base_uri": "https://localhost:8080/",
          "height": 34
        }
      },
      "source": [
        "Utilib_14_returned_std = Autolib['Utilib_14_returned_sum'].std()\n",
        "Utilib_14_returned_std"
      ],
      "execution_count": 0,
      "outputs": [
        {
          "output_type": "execute_result",
          "data": {
            "text/plain": [
              "12.868992936610336"
            ]
          },
          "metadata": {
            "tags": []
          },
          "execution_count": 269
        }
      ]
    },
    {
      "cell_type": "markdown",
      "metadata": {
        "id": "y7GMqZI4cLIG",
        "colab_type": "text"
      },
      "source": [
        "T_test Utilib 14"
      ]
    },
    {
      "cell_type": "code",
      "metadata": {
        "id": "XQ2jYPuacHuE",
        "colab_type": "code",
        "outputId": "fd5c0c52-d0ef-46c0-93f5-8281da979471",
        "colab": {
          "base_uri": "https://localhost:8080/",
          "height": 34
        }
      },
      "source": [
        "utilib_14_taken = Autolib['Utilib_14_taken_sum']\n",
        "utilib_14_returned = Autolib['Utilib_14_returned_sum']\n",
        "\n",
        "ttest, pval = ttest_ind(utilib_14_taken,utilib_14_returned )\n",
        "print('P-value = ', pval)"
      ],
      "execution_count": 0,
      "outputs": [
        {
          "output_type": "stream",
          "text": [
            "P-value =  0.9923956158598111\n"
          ],
          "name": "stdout"
        }
      ]
    },
    {
      "cell_type": "code",
      "metadata": {
        "id": "Beq84efndERK",
        "colab_type": "code",
        "outputId": "1e496586-ca05-4eeb-cf0d-e21992d9334e",
        "colab": {
          "base_uri": "https://localhost:8080/",
          "height": 54
        }
      },
      "source": [
        "if pval< 0.05 :\n",
        "  print('We therefore reject the null hypothesis and conclude that Utilib 14 taken is not any different from Utilib 14 returned at 5% level of significance ')\n",
        "else:\n",
        "  print('We therefore fail to reject the null hypothesis and conclude  that the Utilib 14 returned have a substantial difference from utilib 14  taken at 5% level of significance')\n"
      ],
      "execution_count": 0,
      "outputs": [
        {
          "output_type": "stream",
          "text": [
            "We therefore fail to reject the null hypothesis and conclude  that the Utilib 14 returned have a substantial difference from utilib 14  taken at 5% level of significance\n"
          ],
          "name": "stdout"
        }
      ]
    }
  ]
}